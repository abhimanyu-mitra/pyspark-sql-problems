{
 "cells": [
  {
   "cell_type": "markdown",
   "metadata": {},
   "source": [
    "[Trips and User - Leetcode](https://leetcode.com/problems/trips-and-users/description/)"
   ]
  },
  {
   "cell_type": "code",
   "execution_count": null,
   "metadata": {},
   "outputs": [],
   "source": [
    "import findspark\n",
    "findspark.init()\n",
    "\n",
    "import datetime"
   ]
  },
  {
   "cell_type": "code",
   "execution_count": null,
   "metadata": {},
   "outputs": [],
   "source": [
    "from pyspark.sql.session import SparkSession\n",
    "import pyspark.sql.functions as F\n",
    "import pyspark.sql.types as T\n",
    "from pyspark.sql.window import Window\n",
    "\n",
    "spark = SparkSession.builder.master(\"local\").appName(\"playground\").getOrCreate()"
   ]
  },
  {
   "cell_type": "code",
   "execution_count": null,
   "metadata": {},
   "outputs": [],
   "source": [
    "trips_schema = T.StructType([\n",
    "    T.StructField(\"id\", T.IntegerType(), False),\n",
    "    T.StructField(\"client_id\", T.IntegerType(), False),\n",
    "    T.StructField(\"driver_id\", T.IntegerType(), False),\n",
    "    T.StructField(\"city_id\", T.IntegerType(), False),\n",
    "    T.StructField(\"status\", T.StringType(), False),\n",
    "    T.StructField(\"request_at\", T.DateType(), False)\n",
    "    ])\n",
    "\n",
    "users_schema = T.StructType([\n",
    "    T.StructField(\"users_id\", T.IntegerType(), False),\n",
    "    T.StructField(\"banned\", T.StringType(), False),\n",
    "    T.StructField(\"role\", T.StringType(), False)\n",
    "])"
   ]
  },
  {
   "cell_type": "code",
   "execution_count": null,
   "metadata": {},
   "outputs": [],
   "source": [
    "trips_data = [\n",
    "    (1, 1, 10, 1, \"completed\", datetime.date(2013, 10, 1)),\n",
    "    (2, 2, 11, 1, \"cancelled_by_driver\", datetime.date(2013, 10, 1)),\n",
    "    (3, 3, 12, 6, \"completed\", datetime.date(2013, 10, 1)),\n",
    "    (4, 4, 13, 6, \"cancelled_by_client\", datetime.date(2013, 10, 1)),\n",
    "    (5, 1, 10, 1, \"completed\", datetime.date(2013, 10, 2)),\n",
    "    (6, 2, 11, 6, \"completed\", datetime.date(2013, 10, 2)),\n",
    "    (7, 3, 12, 6, \"completed\", datetime.date(2013, 10, 2)),\n",
    "    (8, 2, 12, 12, \"completed\", datetime.date(2013, 10, 3)),\n",
    "    (9, 3, 10, 12, \"completed\", datetime.date(2013, 10, 3)),\n",
    "    (10, 4, 13, 12, \"cancelled_by_driver\", datetime.date(2013, 10, 3)),\n",
    "]\n",
    "\n",
    "trips = spark.createDataFrame(trips_data, trips_schema)\n",
    "\n",
    "trips.show()\n",
    "\n",
    "users_data = [\n",
    "    (1, \"No\", \"client\"),\n",
    "    (2, \"Yes\", \"client\"),\n",
    "    (3, \"No\", \"client\"),\n",
    "    (4, \"No\", \"client\"),\n",
    "    (10, \"No\", \"driver\"),\n",
    "    (11, \"No\", \"driver\"),\n",
    "    (12, \"No\", \"driver\"),\n",
    "    (13, \"No\", \"driver\"),\n",
    "]\n",
    "\n",
    "users = spark.createDataFrame(users_data, users_schema)\n",
    "\n",
    "users.show()"
   ]
  },
  {
   "cell_type": "code",
   "execution_count": null,
   "metadata": {},
   "outputs": [],
   "source": [
    "user_trips_client = (trips.alias(\"t\")\n",
    "                     .join(users.alias(\"u\"), \n",
    "                           F.col(\"t.client_id\") == F.col(\"u.users_id\"), \n",
    "                           \"left\"))\n",
    "\n",
    "user_trips_client_driver = (user_trips_client.alias(\"utc\")\n",
    "                            .join(users.alias(\"us\"),\n",
    "                                  F.col(\"utc.driver_id\") == F.col(\"us.users_id\"),\n",
    "                                  \"left\"))\n",
    "\n",
    "\n",
    "\n",
    "user_trips_client_driver.show()"
   ]
  },
  {
   "cell_type": "code",
   "execution_count": null,
   "metadata": {},
   "outputs": [],
   "source": [
    "user_trips_client_driver = user_trips_client_driver.where(\"(utc.banned = 'No') AND (us.banned = 'No')\")\n",
    "\n",
    "user_trips_client_driver.show()"
   ]
  },
  {
   "cell_type": "code",
   "execution_count": null,
   "metadata": {},
   "outputs": [],
   "source": [
    "user_trips_client_driver = (user_trips_client_driver\n",
    "                            .withColumn(\"cancelled_count\", \n",
    "                                        F.expr(\"CASE WHEN utc.status = 'completed' THEN 0 ELSE 1 END\")))\n",
    "\n",
    "user_trips_client_driver.show()"
   ]
  },
  {
   "cell_type": "code",
   "execution_count": null,
   "metadata": {},
   "outputs": [],
   "source": [
    "trips_agg_data = (user_trips_client_driver\n",
    "                  .groupBy(\"utc.request_at\")\n",
    "                  .agg(F.count(\"id\").alias(\"completed_count\"), \n",
    "                       F.sum(\"cancelled_count\").alias(\"cancelled_count\")))\n",
    "\n",
    "trips_agg_data.show()"
   ]
  },
  {
   "cell_type": "code",
   "execution_count": null,
   "metadata": {},
   "outputs": [],
   "source": [
    "trips_agg_data = trips_agg_data.selectExpr(\"request_at as Day\", \n",
    "                                           \"round((cancelled_count / completed_count), 2) as cancellation_rate\")\n",
    "\n",
    "trips_agg_data.show()"
   ]
  }
 ],
 "metadata": {
  "kernelspec": {
   "display_name": "Python 3",
   "language": "python",
   "name": "python3"
  },
  "language_info": {
   "codemirror_mode": {
    "name": "ipython",
    "version": 3
   },
   "file_extension": ".py",
   "mimetype": "text/x-python",
   "name": "python",
   "nbconvert_exporter": "python",
   "pygments_lexer": "ipython3",
   "version": "3.7.7"
  }
 },
 "nbformat": 4,
 "nbformat_minor": 2
}
