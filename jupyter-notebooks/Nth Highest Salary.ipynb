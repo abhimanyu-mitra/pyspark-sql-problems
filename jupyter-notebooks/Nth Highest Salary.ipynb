{
 "cells": [
  {
   "cell_type": "markdown",
   "id": "d20ed6c0",
   "metadata": {},
   "source": [
    "## Q. Find the nth highest salary from a given data frame"
   ]
  },
  {
   "cell_type": "code",
   "execution_count": 1,
   "id": "a59e485d",
   "metadata": {},
   "outputs": [],
   "source": [
    "import findspark\n",
    "findspark.init()"
   ]
  },
  {
   "cell_type": "code",
   "execution_count": 2,
   "id": "420138cf",
   "metadata": {},
   "outputs": [
    {
     "name": "stdout",
     "output_type": "stream",
     "text": [
      "+----+------+\n",
      "|  id|salary|\n",
      "+----+------+\n",
      "|1001| 25000|\n",
      "|1002| 36000|\n",
      "|1003| 75000|\n",
      "|1004| 86000|\n",
      "|1005| 15000|\n",
      "|1006| 36000|\n",
      "|1007| 45000|\n",
      "|1008| 22000|\n",
      "|1009| 25000|\n",
      "|1010| 16000|\n",
      "+----+------+\n",
      "\n"
     ]
    }
   ],
   "source": [
    "from pyspark.sql.session import SparkSession\n",
    "\n",
    "spark = SparkSession.builder.appName(\"getNthhighestSalary\").master(\"local[*]\").getOrCreate()\n",
    "\n",
    "columns = [\"id\", \"salary\"]\n",
    "data = [(1001, 25000), (1002, 36000), (1003, 75000), (1004, 86000), (1005, 15000), \n",
    "        (1006, 36000), (1007, 45000), (1008, 22000),(1009, 25000), (1010, 16000)]\n",
    "\n",
    "df = spark.createDataFrame(data, columns)\n",
    "df.show()\n"
   ]
  },
  {
   "cell_type": "code",
   "execution_count": 3,
   "id": "92a2b47f",
   "metadata": {},
   "outputs": [
    {
     "name": "stdout",
     "output_type": "stream",
     "text": [
      "+----+------+-----------+\n",
      "|  id|salary|salary_rank|\n",
      "+----+------+-----------+\n",
      "|1005| 15000|          1|\n",
      "|1010| 16000|          2|\n",
      "|1008| 22000|          3|\n",
      "|1001| 25000|          4|\n",
      "|1009| 25000|          4|\n",
      "|1002| 36000|          5|\n",
      "|1006| 36000|          5|\n",
      "|1007| 45000|          6|\n",
      "|1003| 75000|          7|\n",
      "|1004| 86000|          8|\n",
      "+----+------+-----------+\n",
      "\n"
     ]
    }
   ],
   "source": [
    "from pyspark.sql.window import Window\n",
    "from pyspark.sql.functions import col, dense_rank\n",
    "\n",
    "windowSpec = Window.partitionBy().orderBy(col(\"salary\"))\n",
    "\n",
    "df_salary_rank = df.withColumn(\"salary_rank\", dense_rank().over(windowSpec))\n",
    "\n",
    "df_salary_rank.show()"
   ]
  },
  {
   "cell_type": "code",
   "execution_count": 4,
   "id": "a1e24977",
   "metadata": {},
   "outputs": [
    {
     "name": "stdout",
     "output_type": "stream",
     "text": [
      "Enter the value of n: 5\n",
      "n is:  5\n",
      "+----+------+-----------+\n",
      "|  id|salary|salary_rank|\n",
      "+----+------+-----------+\n",
      "|1002| 36000|          5|\n",
      "|1006| 36000|          5|\n",
      "+----+------+-----------+\n",
      "\n"
     ]
    }
   ],
   "source": [
    "n = int(input(\"Enter the value of n: \"))\n",
    "print(\"n is: \", n)\n",
    "\n",
    "df_salary_rank.filter(f\"salary_rank == {n}\").show()"
   ]
  }
 ],
 "metadata": {
  "kernelspec": {
   "display_name": "Python 3",
   "language": "python",
   "name": "python3"
  },
  "language_info": {
   "codemirror_mode": {
    "name": "ipython",
    "version": 3
   },
   "file_extension": ".py",
   "mimetype": "text/x-python",
   "name": "python",
   "nbconvert_exporter": "python",
   "pygments_lexer": "ipython3",
   "version": "3.7.2"
  }
 },
 "nbformat": 4,
 "nbformat_minor": 5
}
