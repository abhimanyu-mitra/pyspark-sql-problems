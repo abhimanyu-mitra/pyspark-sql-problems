{
 "cells": [
  {
   "cell_type": "markdown",
   "id": "afda65da",
   "metadata": {},
   "source": [
    "### 1. Schedule Matches between Teams"
   ]
  },
  {
   "cell_type": "raw",
   "id": "cbdddd45",
   "metadata": {},
   "source": [
    "Input table\n",
    "+----------+\n",
    "| Teams    |\n",
    "+----------+\n",
    "| India    |\n",
    "| SriLanka |\n",
    "| Australia|\n",
    "+----------+\n",
    "\n",
    "Output table\n",
    "\n",
    "+-----------+----------+\n",
    "|   Team A  | Team B   |\n",
    "+-----------+----------+\n",
    "| India     | SriLanka |\n",
    "| India     | Australia|\n",
    "| SriLanka  | Australia|\n",
    "+-----------+----------+\n"
   ]
  },
  {
   "cell_type": "code",
   "execution_count": 8,
   "id": "e4ae8f72",
   "metadata": {},
   "outputs": [],
   "source": [
    "import findspark\n",
    "findspark.init()"
   ]
  },
  {
   "cell_type": "code",
   "execution_count": 9,
   "id": "e88c31ce",
   "metadata": {},
   "outputs": [
    {
     "name": "stdout",
     "output_type": "stream",
     "text": [
      "+---------+\n",
      "|    Teams|\n",
      "+---------+\n",
      "|    India|\n",
      "| SriLanka|\n",
      "|Australia|\n",
      "+---------+\n",
      "\n"
     ]
    }
   ],
   "source": [
    "from pyspark.sql.session import SparkSession\n",
    "\n",
    "spark = SparkSession.builder.appName(\"self-join\").master(\"local[*]\").getOrCreate()\n",
    "\n",
    "columns = [\"Teams\"]\n",
    "data = [(\"India\",), (\"SriLanka\",), (\"Australia\",)]\n",
    "\n",
    "teams_df = spark.createDataFrame(data, columns)\n",
    "\n",
    "teams_df.show()"
   ]
  },
  {
   "cell_type": "code",
   "execution_count": 10,
   "id": "edc68f0e",
   "metadata": {},
   "outputs": [
    {
     "name": "stdout",
     "output_type": "stream",
     "text": [
      "+--------+---------+\n",
      "|   Teams|    Teams|\n",
      "+--------+---------+\n",
      "|   India|Australia|\n",
      "|SriLanka|    India|\n",
      "|SriLanka|Australia|\n",
      "+--------+---------+\n",
      "\n"
     ]
    }
   ],
   "source": [
    "from pyspark.sql.functions import col\n",
    "\n",
    "join_condition = col(\"T1.Teams\") > col(\"T2.Teams\")\n",
    "join_type = \"inner\"\n",
    "\n",
    "teams_df.alias(\"T1\").join(teams_df.alias(\"T2\"), join_condition, join_type).show()"
   ]
  }
 ],
 "metadata": {
  "kernelspec": {
   "display_name": "Python 3",
   "language": "python",
   "name": "python3"
  },
  "language_info": {
   "codemirror_mode": {
    "name": "ipython",
    "version": 3
   },
   "file_extension": ".py",
   "mimetype": "text/x-python",
   "name": "python",
   "nbconvert_exporter": "python",
   "pygments_lexer": "ipython3",
   "version": "3.7.2"
  }
 },
 "nbformat": 4,
 "nbformat_minor": 5
}
