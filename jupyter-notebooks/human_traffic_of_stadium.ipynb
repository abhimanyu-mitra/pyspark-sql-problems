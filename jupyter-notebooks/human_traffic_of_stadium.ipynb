{
 "cells": [
  {
   "cell_type": "markdown",
   "metadata": {},
   "source": [
    "[Human Traffic Of Stadium - Leetcode](https://leetcode.com/problems/human-traffic-of-stadium/description/)"
   ]
  },
  {
   "cell_type": "code",
   "execution_count": 13,
   "metadata": {},
   "outputs": [],
   "source": [
    "import findspark\n",
    "findspark.init()\n",
    "\n",
    "import datetime"
   ]
  },
  {
   "cell_type": "code",
   "execution_count": 14,
   "metadata": {},
   "outputs": [],
   "source": [
    "from pyspark.sql.session import SparkSession\n",
    "import pyspark.sql.functions as F\n",
    "import pyspark.sql.types as T\n",
    "from pyspark.sql.window import Window\n",
    "\n",
    "spark = SparkSession.builder.master(\"local\").appName(\"playground\").getOrCreate()"
   ]
  },
  {
   "cell_type": "code",
   "execution_count": 15,
   "metadata": {},
   "outputs": [
    {
     "name": "stdout",
     "output_type": "stream",
     "text": [
      "+---+----------+------+\n",
      "| id|visit_date|people|\n",
      "+---+----------+------+\n",
      "|  1|2017-01-01|    10|\n",
      "|  2|2017-01-02|   109|\n",
      "|  3|2017-01-03|   150|\n",
      "|  4|2017-01-04|    99|\n",
      "|  5|2017-01-05|   145|\n",
      "|  6|2017-01-06|  1455|\n",
      "|  7|2017-01-07|   199|\n",
      "|  8|2017-01-09|   188|\n",
      "+---+----------+------+\n",
      "\n"
     ]
    }
   ],
   "source": [
    "stadium_schema = T.StructType(\n",
    "    [\n",
    "        T.StructField(\"id\", T.IntegerType(), False),\n",
    "        T.StructField(\"visit_date\", T.DateType(), False),\n",
    "        T.StructField(\"people\", T.IntegerType(), False)\n",
    "    ]\n",
    ")\n",
    "\n",
    "stadium_data = [\n",
    "    (1, datetime.date(2017, 1, 1), 10),\n",
    "    (2, datetime.date(2017, 1, 2), 109),\n",
    "    (3, datetime.date(2017, 1, 3), 150),\n",
    "    (4, datetime.date(2017, 1, 4), 99),\n",
    "    (5, datetime.date(2017, 1, 5), 145),\n",
    "    (6, datetime.date(2017, 1, 6), 1455),\n",
    "    (7, datetime.date(2017, 1, 7), 199),\n",
    "    (8, datetime.date(2017, 1, 9), 188)\n",
    "]\n",
    "\n",
    "stadium = spark.createDataFrame(stadium_data, stadium_schema)\n",
    "\n",
    "stadium.show()"
   ]
  },
  {
   "cell_type": "code",
   "execution_count": 16,
   "metadata": {},
   "outputs": [
    {
     "name": "stdout",
     "output_type": "stream",
     "text": [
      "+---+----------+------+--------------------+---------+------------------+--------+\n",
      "| id|visit_date|people|day_before_yesterday|yesterday|day_after_tomorrow|tomorrow|\n",
      "+---+----------+------+--------------------+---------+------------------+--------+\n",
      "|  1|2017-01-01|    10|                null|     null|               150|     109|\n",
      "|  2|2017-01-02|   109|                null|       10|                99|     150|\n",
      "|  3|2017-01-03|   150|                  10|      109|               145|      99|\n",
      "|  4|2017-01-04|    99|                 109|      150|              1455|     145|\n",
      "|  5|2017-01-05|   145|                 150|       99|               199|    1455|\n",
      "|  6|2017-01-06|  1455|                  99|      145|               188|     199|\n",
      "|  7|2017-01-07|   199|                 145|     1455|              null|     188|\n",
      "|  8|2017-01-09|   188|                1455|      199|              null|    null|\n",
      "+---+----------+------+--------------------+---------+------------------+--------+\n",
      "\n"
     ]
    }
   ],
   "source": [
    "window_spec = Window.partitionBy().orderBy(\"id\")\n",
    "\n",
    "stadium = (stadium.withColumn(\"day_before_yesterday\", F.lag(\"people\", 2).over(window_spec))\n",
    "                  .withColumn(\"yesterday\", F.lag(\"people\", 1).over(window_spec))\n",
    "                  .withColumn(\"day_after_tomorrow\", F.lead(\"people\", 2).over(window_spec))\n",
    "                  .withColumn(\"tomorrow\", F.lead(\"people\", 1).over(window_spec)))\n",
    "\n",
    "stadium.show()"
   ]
  },
  {
   "cell_type": "code",
   "execution_count": 17,
   "metadata": {},
   "outputs": [
    {
     "name": "stdout",
     "output_type": "stream",
     "text": [
      "+---+----------+------+--------------------+---------+------------------+--------+\n",
      "| id|visit_date|people|day_before_yesterday|yesterday|day_after_tomorrow|tomorrow|\n",
      "+---+----------+------+--------------------+---------+------------------+--------+\n",
      "|  5|2017-01-05|   145|                 150|       99|               199|    1455|\n",
      "|  6|2017-01-06|  1455|                  99|      145|               188|     199|\n",
      "|  7|2017-01-07|   199|                 145|     1455|              null|     188|\n",
      "|  8|2017-01-09|   188|                1455|      199|              null|    null|\n",
      "+---+----------+------+--------------------+---------+------------------+--------+\n",
      "\n"
     ]
    }
   ],
   "source": [
    "stadium = (stadium\n",
    "           .where(\"\"\"(people >= 100) AND (((tomorrow >= 100) AND (day_after_tomorrow >= 100)) \n",
    "                                        OR ((yesterday >= 100) AND (day_before_yesterday >= 100))\n",
    "                                        OR ((yesterday >= 100) AND (tomorrow >= 100)))\"\"\"))\n",
    "\n",
    "stadium.show()"
   ]
  },
  {
   "cell_type": "code",
   "execution_count": 18,
   "metadata": {},
   "outputs": [
    {
     "name": "stdout",
     "output_type": "stream",
     "text": [
      "+---+----------+------+\n",
      "| id|visit_date|people|\n",
      "+---+----------+------+\n",
      "|  5|2017-01-05|   145|\n",
      "|  6|2017-01-06|  1455|\n",
      "|  7|2017-01-07|   199|\n",
      "|  8|2017-01-09|   188|\n",
      "+---+----------+------+\n",
      "\n"
     ]
    }
   ],
   "source": [
    "stadium = stadium.selectExpr(\"id\", \"visit_date\", \"people\")\n",
    "\n",
    "stadium.show()"
   ]
  }
 ],
 "metadata": {
  "kernelspec": {
   "display_name": "Python 3",
   "language": "python",
   "name": "python3"
  },
  "language_info": {
   "codemirror_mode": {
    "name": "ipython",
    "version": 3
   },
   "file_extension": ".py",
   "mimetype": "text/x-python",
   "name": "python",
   "nbconvert_exporter": "python",
   "pygments_lexer": "ipython3",
   "version": "3.7.7rc1"
  }
 },
 "nbformat": 4,
 "nbformat_minor": 2
}
